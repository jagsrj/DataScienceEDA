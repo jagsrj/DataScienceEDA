{
 "cells": [
  {
   "cell_type": "markdown",
   "id": "9bceae6d",
   "metadata": {},
   "source": [
    "# Module 2 - Assignment - Uber Supply Demand\n",
    "Student - Jagadish Janakiraman"
   ]
  },
  {
   "cell_type": "markdown",
   "id": "8bffb72e",
   "metadata": {},
   "source": [
    "## Question 1 - Visually identify the most pressing problems for Uber. \n",
    "Hint: Create plots to visualize the frequency of requests that get canceled or show 'no cars available'; \n",
    "    identify the most problematic types of requests (city to airport/airport to city etc.) and \n",
    "    the time slots (early mornings, late evenings etc.) using plots"
   ]
  },
  {
   "cell_type": "code",
   "execution_count": 54,
   "id": "108e4556",
   "metadata": {},
   "outputs": [],
   "source": [
    "# importing the required libraries\n",
    "import pandas as pd\n",
    "import numpy as np\n",
    "import matplotlib.pyplot as plt\n",
    "import seaborn as sns\n",
    "\n",
    "import warnings\n",
    "warnings.filterwarnings(\"ignore\")"
   ]
  },
  {
   "cell_type": "code",
   "execution_count": 55,
   "id": "83e65e2a",
   "metadata": {},
   "outputs": [
    {
     "name": "stdout",
     "output_type": "stream",
     "text": [
      "<class 'pandas.core.frame.DataFrame'>\n",
      "RangeIndex: 6745 entries, 0 to 6744\n",
      "Data columns (total 6 columns):\n",
      " #   Column             Non-Null Count  Dtype  \n",
      "---  ------             --------------  -----  \n",
      " 0   Request id         6745 non-null   int64  \n",
      " 1   Pickup point       6745 non-null   object \n",
      " 2   Driver id          4095 non-null   float64\n",
      " 3   Status             6745 non-null   object \n",
      " 4   Request timestamp  6745 non-null   object \n",
      " 5   Drop timestamp     2831 non-null   object \n",
      "dtypes: float64(1), int64(1), object(4)\n",
      "memory usage: 316.3+ KB\n"
     ]
    }
   ],
   "source": [
    "# loading the data into a pandas dataframe\n",
    "uber_df = pd.read_csv(\"Uber Request Data.csv\")\n",
    "uber_df.info()"
   ]
  },
  {
   "cell_type": "code",
   "execution_count": 56,
   "id": "b3fa415a",
   "metadata": {},
   "outputs": [
    {
     "data": {
      "text/html": [
       "<div>\n",
       "<style scoped>\n",
       "    .dataframe tbody tr th:only-of-type {\n",
       "        vertical-align: middle;\n",
       "    }\n",
       "\n",
       "    .dataframe tbody tr th {\n",
       "        vertical-align: top;\n",
       "    }\n",
       "\n",
       "    .dataframe thead th {\n",
       "        text-align: right;\n",
       "    }\n",
       "</style>\n",
       "<table border=\"1\" class=\"dataframe\">\n",
       "  <thead>\n",
       "    <tr style=\"text-align: right;\">\n",
       "      <th></th>\n",
       "      <th>Request id</th>\n",
       "      <th>Pickup point</th>\n",
       "      <th>Driver id</th>\n",
       "      <th>Status</th>\n",
       "      <th>Request timestamp</th>\n",
       "      <th>Drop timestamp</th>\n",
       "    </tr>\n",
       "  </thead>\n",
       "  <tbody>\n",
       "    <tr>\n",
       "      <th>5056</th>\n",
       "      <td>2578</td>\n",
       "      <td>Airport</td>\n",
       "      <td>NaN</td>\n",
       "      <td>No Cars Available</td>\n",
       "      <td>12/7/2016 21:42</td>\n",
       "      <td>NaN</td>\n",
       "    </tr>\n",
       "    <tr>\n",
       "      <th>1346</th>\n",
       "      <td>282</td>\n",
       "      <td>City</td>\n",
       "      <td>141.0</td>\n",
       "      <td>Trip Completed</td>\n",
       "      <td>11/7/2016 6:56</td>\n",
       "      <td>11/7/2016 8:11</td>\n",
       "    </tr>\n",
       "    <tr>\n",
       "      <th>993</th>\n",
       "      <td>3723</td>\n",
       "      <td>Airport</td>\n",
       "      <td>103.0</td>\n",
       "      <td>Trip Completed</td>\n",
       "      <td>13-07-2016 20:03:45</td>\n",
       "      <td>13-07-2016 20:57:08</td>\n",
       "    </tr>\n",
       "    <tr>\n",
       "      <th>2403</th>\n",
       "      <td>1210</td>\n",
       "      <td>Airport</td>\n",
       "      <td>252.0</td>\n",
       "      <td>Trip Completed</td>\n",
       "      <td>11/7/2016 21:24</td>\n",
       "      <td>11/7/2016 22:33</td>\n",
       "    </tr>\n",
       "    <tr>\n",
       "      <th>4444</th>\n",
       "      <td>1061</td>\n",
       "      <td>Airport</td>\n",
       "      <td>NaN</td>\n",
       "      <td>No Cars Available</td>\n",
       "      <td>11/7/2016 19:44</td>\n",
       "      <td>NaN</td>\n",
       "    </tr>\n",
       "  </tbody>\n",
       "</table>\n",
       "</div>"
      ],
      "text/plain": [
       "      Request id Pickup point  Driver id             Status  \\\n",
       "5056        2578      Airport        NaN  No Cars Available   \n",
       "1346         282         City      141.0     Trip Completed   \n",
       "993         3723      Airport      103.0     Trip Completed   \n",
       "2403        1210      Airport      252.0     Trip Completed   \n",
       "4444        1061      Airport        NaN  No Cars Available   \n",
       "\n",
       "        Request timestamp       Drop timestamp  \n",
       "5056      12/7/2016 21:42                  NaN  \n",
       "1346       11/7/2016 6:56       11/7/2016 8:11  \n",
       "993   13-07-2016 20:03:45  13-07-2016 20:57:08  \n",
       "2403      11/7/2016 21:24      11/7/2016 22:33  \n",
       "4444      11/7/2016 19:44                  NaN  "
      ]
     },
     "execution_count": 56,
     "metadata": {},
     "output_type": "execute_result"
    }
   ],
   "source": [
    "# view record samples\n",
    "uber_df.sample(5)"
   ]
  },
  {
   "cell_type": "code",
   "execution_count": 57,
   "id": "aef37614",
   "metadata": {},
   "outputs": [],
   "source": [
    "# replacing the '/' with a '-' in the request timestamp column\n",
    "# convert from object to timestamp\n",
    "\n",
    "uber_df[\"Request timestamp\"] =  uber_df['Request timestamp'].str.replace('/', '-')\n",
    "uber_df[\"Request timestamp\"] = pd.to_datetime(uber_df[\"Request timestamp\"])"
   ]
  },
  {
   "cell_type": "code",
   "execution_count": 58,
   "id": "5b92b6e2",
   "metadata": {},
   "outputs": [
    {
     "name": "stdout",
     "output_type": "stream",
     "text": [
      "<class 'pandas.core.frame.DataFrame'>\n",
      "RangeIndex: 6745 entries, 0 to 6744\n",
      "Data columns (total 6 columns):\n",
      " #   Column             Non-Null Count  Dtype         \n",
      "---  ------             --------------  -----         \n",
      " 0   Request id         6745 non-null   int64         \n",
      " 1   Pickup point       6745 non-null   object        \n",
      " 2   Driver id          4095 non-null   float64       \n",
      " 3   Status             6745 non-null   object        \n",
      " 4   Request timestamp  6745 non-null   datetime64[ns]\n",
      " 5   Drop timestamp     2831 non-null   object        \n",
      "dtypes: datetime64[ns](1), float64(1), int64(1), object(3)\n",
      "memory usage: 316.3+ KB\n"
     ]
    }
   ],
   "source": [
    "# verify object is converted to timestamp for request timestamp\n",
    "uber_df.info()"
   ]
  },
  {
   "cell_type": "code",
   "execution_count": 59,
   "id": "f8349eb7",
   "metadata": {},
   "outputs": [
    {
     "data": {
      "text/plain": [
       "Request id              0\n",
       "Pickup point            0\n",
       "Driver id            2650\n",
       "Status                  0\n",
       "Request timestamp       0\n",
       "Drop timestamp       3914\n",
       "dtype: int64"
      ]
     },
     "execution_count": 59,
     "metadata": {},
     "output_type": "execute_result"
    }
   ],
   "source": [
    "# get count of null columns\n",
    "uber_df.isna().sum()"
   ]
  },
  {
   "cell_type": "code",
   "execution_count": 60,
   "id": "fc7f662c",
   "metadata": {},
   "outputs": [
    {
     "data": {
      "text/html": [
       "<div>\n",
       "<style scoped>\n",
       "    .dataframe tbody tr th:only-of-type {\n",
       "        vertical-align: middle;\n",
       "    }\n",
       "\n",
       "    .dataframe tbody tr th {\n",
       "        vertical-align: top;\n",
       "    }\n",
       "\n",
       "    .dataframe thead th {\n",
       "        text-align: right;\n",
       "    }\n",
       "</style>\n",
       "<table border=\"1\" class=\"dataframe\">\n",
       "  <thead>\n",
       "    <tr style=\"text-align: right;\">\n",
       "      <th></th>\n",
       "      <th>Pickup point</th>\n",
       "      <th>Status</th>\n",
       "      <th>Request timestamp</th>\n",
       "    </tr>\n",
       "  </thead>\n",
       "  <tbody>\n",
       "    <tr>\n",
       "      <th>6181</th>\n",
       "      <td>City</td>\n",
       "      <td>No Cars Available</td>\n",
       "      <td>2016-07-15 01:37:01</td>\n",
       "    </tr>\n",
       "    <tr>\n",
       "      <th>5699</th>\n",
       "      <td>City</td>\n",
       "      <td>No Cars Available</td>\n",
       "      <td>2016-07-14 06:51:18</td>\n",
       "    </tr>\n",
       "    <tr>\n",
       "      <th>1089</th>\n",
       "      <td>City</td>\n",
       "      <td>Trip Completed</td>\n",
       "      <td>2016-12-07 05:16:00</td>\n",
       "    </tr>\n",
       "    <tr>\n",
       "      <th>2812</th>\n",
       "      <td>Airport</td>\n",
       "      <td>Trip Completed</td>\n",
       "      <td>2016-07-13 23:57:31</td>\n",
       "    </tr>\n",
       "    <tr>\n",
       "      <th>6705</th>\n",
       "      <td>Airport</td>\n",
       "      <td>No Cars Available</td>\n",
       "      <td>2016-07-15 22:21:14</td>\n",
       "    </tr>\n",
       "    <tr>\n",
       "      <th>5852</th>\n",
       "      <td>Airport</td>\n",
       "      <td>No Cars Available</td>\n",
       "      <td>2016-07-14 17:43:44</td>\n",
       "    </tr>\n",
       "    <tr>\n",
       "      <th>3050</th>\n",
       "      <td>City</td>\n",
       "      <td>Cancelled</td>\n",
       "      <td>2016-07-14 08:03:39</td>\n",
       "    </tr>\n",
       "    <tr>\n",
       "      <th>976</th>\n",
       "      <td>City</td>\n",
       "      <td>Trip Completed</td>\n",
       "      <td>2016-12-07 19:15:00</td>\n",
       "    </tr>\n",
       "    <tr>\n",
       "      <th>5698</th>\n",
       "      <td>Airport</td>\n",
       "      <td>No Cars Available</td>\n",
       "      <td>2016-07-14 06:50:07</td>\n",
       "    </tr>\n",
       "    <tr>\n",
       "      <th>799</th>\n",
       "      <td>City</td>\n",
       "      <td>Trip Completed</td>\n",
       "      <td>2016-07-15 07:42:06</td>\n",
       "    </tr>\n",
       "  </tbody>\n",
       "</table>\n",
       "</div>"
      ],
      "text/plain": [
       "     Pickup point             Status   Request timestamp\n",
       "6181         City  No Cars Available 2016-07-15 01:37:01\n",
       "5699         City  No Cars Available 2016-07-14 06:51:18\n",
       "1089         City     Trip Completed 2016-12-07 05:16:00\n",
       "2812      Airport     Trip Completed 2016-07-13 23:57:31\n",
       "6705      Airport  No Cars Available 2016-07-15 22:21:14\n",
       "5852      Airport  No Cars Available 2016-07-14 17:43:44\n",
       "3050         City          Cancelled 2016-07-14 08:03:39\n",
       "976          City     Trip Completed 2016-12-07 19:15:00\n",
       "5698      Airport  No Cars Available 2016-07-14 06:50:07\n",
       "799          City     Trip Completed 2016-07-15 07:42:06"
      ]
     },
     "execution_count": 60,
     "metadata": {},
     "output_type": "execute_result"
    }
   ],
   "source": [
    "#Drop driver id and drop timestamp and temp variables as they are not required for analysis\n",
    "\n",
    "# 2650 null values in driver id and 3914 null values in drop timestamp (total 6745 rows )\n",
    "\n",
    "uber_df = uber_df.drop(['Request id', 'Driver id', 'Drop timestamp'], axis = 1)\n",
    "uber_df.sample(10)"
   ]
  },
  {
   "cell_type": "code",
   "execution_count": 61,
   "id": "0dd329bf",
   "metadata": {},
   "outputs": [
    {
     "name": "stdout",
     "output_type": "stream",
     "text": [
      "<class 'pandas.core.frame.DataFrame'>\n",
      "RangeIndex: 6745 entries, 0 to 6744\n",
      "Data columns (total 3 columns):\n",
      " #   Column             Non-Null Count  Dtype         \n",
      "---  ------             --------------  -----         \n",
      " 0   Pickup point       6745 non-null   object        \n",
      " 1   Status             6745 non-null   object        \n",
      " 2   Request timestamp  6745 non-null   datetime64[ns]\n",
      "dtypes: datetime64[ns](1), object(2)\n",
      "memory usage: 158.2+ KB\n"
     ]
    }
   ],
   "source": [
    "# view the available columns\n",
    "uber_df.info()"
   ]
  },
  {
   "cell_type": "code",
   "execution_count": 62,
   "id": "d23275eb",
   "metadata": {},
   "outputs": [
    {
     "data": {
      "text/plain": [
       "array([11, 17,  9, 21,  8,  6,  5, 12,  4, 14, 22, 10, 18, 15,  2, 13, 16,\n",
       "       19,  7, 20,  0,  3, 23,  1], dtype=int64)"
      ]
     },
     "execution_count": 62,
     "metadata": {},
     "output_type": "execute_result"
    }
   ],
   "source": [
    "#Get Unique hours\n",
    "uber_df['Request timestamp'].dt.hour.unique()"
   ]
  },
  {
   "cell_type": "code",
   "execution_count": 63,
   "id": "15f43e2d",
   "metadata": {},
   "outputs": [
    {
     "data": {
      "text/html": [
       "<div>\n",
       "<style scoped>\n",
       "    .dataframe tbody tr th:only-of-type {\n",
       "        vertical-align: middle;\n",
       "    }\n",
       "\n",
       "    .dataframe tbody tr th {\n",
       "        vertical-align: top;\n",
       "    }\n",
       "\n",
       "    .dataframe thead th {\n",
       "        text-align: right;\n",
       "    }\n",
       "</style>\n",
       "<table border=\"1\" class=\"dataframe\">\n",
       "  <thead>\n",
       "    <tr style=\"text-align: right;\">\n",
       "      <th></th>\n",
       "      <th>Pickup point</th>\n",
       "      <th>Status</th>\n",
       "      <th>Request timestamp</th>\n",
       "      <th>Session</th>\n",
       "    </tr>\n",
       "  </thead>\n",
       "  <tbody>\n",
       "    <tr>\n",
       "      <th>0</th>\n",
       "      <td>Airport</td>\n",
       "      <td>Trip Completed</td>\n",
       "      <td>2016-11-07 11:51:00</td>\n",
       "      <td>Late_Morning</td>\n",
       "    </tr>\n",
       "    <tr>\n",
       "      <th>1</th>\n",
       "      <td>Airport</td>\n",
       "      <td>Trip Completed</td>\n",
       "      <td>2016-11-07 17:57:00</td>\n",
       "      <td>Evening</td>\n",
       "    </tr>\n",
       "    <tr>\n",
       "      <th>2</th>\n",
       "      <td>City</td>\n",
       "      <td>Trip Completed</td>\n",
       "      <td>2016-12-07 09:17:00</td>\n",
       "      <td>Late_Morning</td>\n",
       "    </tr>\n",
       "    <tr>\n",
       "      <th>3</th>\n",
       "      <td>Airport</td>\n",
       "      <td>Trip Completed</td>\n",
       "      <td>2016-12-07 21:08:00</td>\n",
       "      <td>Night</td>\n",
       "    </tr>\n",
       "    <tr>\n",
       "      <th>4</th>\n",
       "      <td>City</td>\n",
       "      <td>Trip Completed</td>\n",
       "      <td>2016-07-13 08:33:16</td>\n",
       "      <td>Early_Morning</td>\n",
       "    </tr>\n",
       "  </tbody>\n",
       "</table>\n",
       "</div>"
      ],
      "text/plain": [
       "  Pickup point          Status   Request timestamp        Session\n",
       "0      Airport  Trip Completed 2016-11-07 11:51:00   Late_Morning\n",
       "1      Airport  Trip Completed 2016-11-07 17:57:00        Evening\n",
       "2         City  Trip Completed 2016-12-07 09:17:00   Late_Morning\n",
       "3      Airport  Trip Completed 2016-12-07 21:08:00          Night\n",
       "4         City  Trip Completed 2016-07-13 08:33:16  Early_Morning"
      ]
     },
     "execution_count": 63,
     "metadata": {},
     "output_type": "execute_result"
    }
   ],
   "source": [
    "# Group the trip into 6 sessions from the hour of the day (from Request timestamp column)\n",
    "\n",
    "uber_df['Session'] = pd.cut(uber_df['Request timestamp'].dt.hour,[0,4,8,12,16,20,24],labels=['Late_Night','Early_Morning','Late_Morning','Afternoon','Evening','Night'])\n",
    "uber_df.head()"
   ]
  },
  {
   "cell_type": "markdown",
   "id": "b4f745be",
   "metadata": {},
   "source": [
    "#### Session Details\n",
    "\n",
    "Late_Night    : 12 AM - 4 AM\n",
    "\n",
    "Early_Morning : 4 AM - 8AM\n",
    "\n",
    "Late_Morning  : 8 AM - 12 PM\n",
    "\n",
    "Afternoon     : 12 PM - 4 PM\n",
    "\n",
    "Evening       : 4 PM - 8 PM\n",
    "\n",
    "Night         : 8 PM - 12 AM\n"
   ]
  },
  {
   "cell_type": "code",
   "execution_count": 74,
   "id": "a2e4af5e",
   "metadata": {},
   "outputs": [
    {
     "data": {
      "image/png": "[encoded data removed]",
      "text/plain": [
       "<Figure size 720x360 with 1 Axes>"
      ]
     },
     "metadata": {
      "needs_background": "light"
     },
     "output_type": "display_data"
    }
   ],
   "source": [
    "# plotting by Session and Status to get count of status by session\n",
    "\n",
    "uber_df.groupby(['Session','Status']).Status.count().unstack().plot.bar(legend=True, figsize=(10,5), color=[\"r\", \"b\",\"g\"])\n",
    "\n",
    "plt.title('Trip Status')\n",
    "plt.xlabel('Sessions')\n",
    "plt.ylabel('# Trip Status')\n",
    "\n",
    "plt.show()"
   ]
  },
  {
   "cell_type": "markdown",
   "id": "187f187b",
   "metadata": {},
   "source": [
    "## Answer 1.1\n",
    "\n",
    "#### 1. More Trips are cancelled in Early Morning between 4-8 AM & Late Morning between 8AM-12PM\n",
    "\n",
    "####  2. No cars available between Evening 4-8 PM and Night 8PM-12AM"
   ]
  },
  {
   "cell_type": "code",
   "execution_count": 65,
   "id": "5195002b",
   "metadata": {},
   "outputs": [
    {
     "data": {
      "text/html": [
       "<div>\n",
       "<style scoped>\n",
       "    .dataframe tbody tr th:only-of-type {\n",
       "        vertical-align: middle;\n",
       "    }\n",
       "\n",
       "    .dataframe tbody tr th {\n",
       "        vertical-align: top;\n",
       "    }\n",
       "\n",
       "    .dataframe thead th {\n",
       "        text-align: right;\n",
       "    }\n",
       "</style>\n",
       "<table border=\"1\" class=\"dataframe\">\n",
       "  <thead>\n",
       "    <tr style=\"text-align: right;\">\n",
       "      <th></th>\n",
       "      <th>Pickup point</th>\n",
       "      <th>Status</th>\n",
       "      <th>Request timestamp</th>\n",
       "      <th>Session</th>\n",
       "    </tr>\n",
       "  </thead>\n",
       "  <tbody>\n",
       "    <tr>\n",
       "      <th>0</th>\n",
       "      <td>City</td>\n",
       "      <td>Cancelled</td>\n",
       "      <td>2016-07-13 06:08:41</td>\n",
       "      <td>Early_Morning</td>\n",
       "    </tr>\n",
       "    <tr>\n",
       "      <th>1</th>\n",
       "      <td>City</td>\n",
       "      <td>Cancelled</td>\n",
       "      <td>2016-07-14 17:07:58</td>\n",
       "      <td>Evening</td>\n",
       "    </tr>\n",
       "    <tr>\n",
       "      <th>2</th>\n",
       "      <td>Airport</td>\n",
       "      <td>Cancelled</td>\n",
       "      <td>2016-07-14 20:51:37</td>\n",
       "      <td>Evening</td>\n",
       "    </tr>\n",
       "    <tr>\n",
       "      <th>3</th>\n",
       "      <td>City</td>\n",
       "      <td>Cancelled</td>\n",
       "      <td>2016-07-15 10:12:40</td>\n",
       "      <td>Late_Morning</td>\n",
       "    </tr>\n",
       "    <tr>\n",
       "      <th>4</th>\n",
       "      <td>Airport</td>\n",
       "      <td>Cancelled</td>\n",
       "      <td>2016-12-07 19:14:00</td>\n",
       "      <td>Evening</td>\n",
       "    </tr>\n",
       "  </tbody>\n",
       "</table>\n",
       "</div>"
      ],
      "text/plain": [
       "  Pickup point     Status   Request timestamp        Session\n",
       "0         City  Cancelled 2016-07-13 06:08:41  Early_Morning\n",
       "1         City  Cancelled 2016-07-14 17:07:58        Evening\n",
       "2      Airport  Cancelled 2016-07-14 20:51:37        Evening\n",
       "3         City  Cancelled 2016-07-15 10:12:40   Late_Morning\n",
       "4      Airport  Cancelled 2016-12-07 19:14:00        Evening"
      ]
     },
     "execution_count": 65,
     "metadata": {},
     "output_type": "execute_result"
    }
   ],
   "source": [
    "# filtering out only \"Cancelled\"  trips\n",
    "\n",
    "cancel_df=uber_df[uber_df[\"Status\"]=='Cancelled']\n",
    "cancel_df=cancel_df.reset_index(drop=True)\n",
    "cancel_df.head()"
   ]
  },
  {
   "cell_type": "code",
   "execution_count": 73,
   "id": "c877d990",
   "metadata": {},
   "outputs": [
    {
     "data": {
      "image/png": "[encoded data removed]",
      "text/plain": [
       "<Figure size 720x360 with 1 Axes>"
      ]
     },
     "metadata": {
      "needs_background": "light"
     },
     "output_type": "display_data"
    }
   ],
   "source": [
    "# plotting by Session and cancelled status \n",
    "\n",
    "cancel_df.groupby(['Session','Pickup point']).Session.count().unstack().plot.bar(legend=True, figsize=(10,5), color=[\"c\", \"m\"])\n",
    "\n",
    "plt.title('Cancelled Trips over the day')\n",
    "plt.xlabel('Sessions')\n",
    "plt.ylabel('# of Cancelled Trips')\n",
    "\n",
    "plt.show()"
   ]
  },
  {
   "cell_type": "markdown",
   "id": "9c39bc66",
   "metadata": {},
   "source": [
    "## Answer 1.2\n",
    "\n",
    "#### More cancellations are occurring in Early Morning and Late morning hours from city to Airport\n",
    "\n",
    "#### Maximum cancellations are from City To Airport between 4 AM - 8 AM "
   ]
  },
  {
   "cell_type": "code",
   "execution_count": 67,
   "id": "87d3d56b",
   "metadata": {},
   "outputs": [
    {
     "data": {
      "text/html": [
       "<div>\n",
       "<style scoped>\n",
       "    .dataframe tbody tr th:only-of-type {\n",
       "        vertical-align: middle;\n",
       "    }\n",
       "\n",
       "    .dataframe tbody tr th {\n",
       "        vertical-align: top;\n",
       "    }\n",
       "\n",
       "    .dataframe thead th {\n",
       "        text-align: right;\n",
       "    }\n",
       "</style>\n",
       "<table border=\"1\" class=\"dataframe\">\n",
       "  <thead>\n",
       "    <tr style=\"text-align: right;\">\n",
       "      <th></th>\n",
       "      <th>Pickup point</th>\n",
       "      <th>Status</th>\n",
       "      <th>Request timestamp</th>\n",
       "      <th>Session</th>\n",
       "    </tr>\n",
       "  </thead>\n",
       "  <tbody>\n",
       "    <tr>\n",
       "      <th>2270</th>\n",
       "      <td>City</td>\n",
       "      <td>No Cars Available</td>\n",
       "      <td>2016-07-15 13:41:06</td>\n",
       "      <td>Afternoon</td>\n",
       "    </tr>\n",
       "    <tr>\n",
       "      <th>1550</th>\n",
       "      <td>City</td>\n",
       "      <td>No Cars Available</td>\n",
       "      <td>2016-07-14 04:00:13</td>\n",
       "      <td>Late_Night</td>\n",
       "    </tr>\n",
       "    <tr>\n",
       "      <th>530</th>\n",
       "      <td>Airport</td>\n",
       "      <td>No Cars Available</td>\n",
       "      <td>2016-12-07 03:13:00</td>\n",
       "      <td>Late_Night</td>\n",
       "    </tr>\n",
       "    <tr>\n",
       "      <th>1869</th>\n",
       "      <td>Airport</td>\n",
       "      <td>No Cars Available</td>\n",
       "      <td>2016-07-14 19:26:41</td>\n",
       "      <td>Evening</td>\n",
       "    </tr>\n",
       "    <tr>\n",
       "      <th>985</th>\n",
       "      <td>Airport</td>\n",
       "      <td>No Cars Available</td>\n",
       "      <td>2016-12-07 22:11:00</td>\n",
       "      <td>Night</td>\n",
       "    </tr>\n",
       "  </tbody>\n",
       "</table>\n",
       "</div>"
      ],
      "text/plain": [
       "     Pickup point             Status   Request timestamp     Session\n",
       "2270         City  No Cars Available 2016-07-15 13:41:06   Afternoon\n",
       "1550         City  No Cars Available 2016-07-14 04:00:13  Late_Night\n",
       "530       Airport  No Cars Available 2016-12-07 03:13:00  Late_Night\n",
       "1869      Airport  No Cars Available 2016-07-14 19:26:41     Evening\n",
       "985       Airport  No Cars Available 2016-12-07 22:11:00       Night"
      ]
     },
     "execution_count": 67,
     "metadata": {},
     "output_type": "execute_result"
    }
   ],
   "source": [
    "# filtering out only \"No Cars Available\"  trips\n",
    "\n",
    "nocar_df=uber_df[uber_df[\"Status\"]== 'No Cars Available']\n",
    "nocar_df=nocar_df.reset_index(drop=True)\n",
    "nocar_df.sample(5)"
   ]
  },
  {
   "cell_type": "code",
   "execution_count": 72,
   "id": "8b29edd3",
   "metadata": {},
   "outputs": [
    {
     "data": {
      "image/png": "[encoded data removed]",
      "text/plain": [
       "<Figure size 720x360 with 1 Axes>"
      ]
     },
     "metadata": {
      "needs_background": "light"
     },
     "output_type": "display_data"
    }
   ],
   "source": [
    "# plotting by Session and 'No Cars available' status \n",
    "\n",
    "nocar_df.groupby(['Session','Pickup point']).Session.count().unstack().plot.bar(legend=True, figsize=(10,5), color=[\"c\", \"m\"])\n",
    "\n",
    "plt.title('No Car Available Trips over the day')\n",
    "plt.xlabel('Sessions')\n",
    "plt.ylabel('# No Car Availble Trips')\n",
    "\n",
    "plt.show()"
   ]
  },
  {
   "cell_type": "markdown",
   "id": "1bb970d8",
   "metadata": {},
   "source": [
    "## Answer 1.3\n",
    "\n",
    "#### Maximum number of No car available trips is in the evening (4 PM to 8 PM) from Airport to City"
   ]
  },
  {
   "cell_type": "markdown",
   "id": "bb29c197",
   "metadata": {},
   "source": [
    "## Question 2  Find out the gap between supply and demand \n",
    "\n",
    "Find the time slots when the highest gap exists\n",
    "\n",
    "Find the types of requests (city-airport or airport-city) for which the gap is the most severe in the identified time slots"
   ]
  },
  {
   "cell_type": "code",
   "execution_count": 69,
   "id": "8f24710d",
   "metadata": {},
   "outputs": [
    {
     "data": {
      "text/html": [
       "<div>\n",
       "<style scoped>\n",
       "    .dataframe tbody tr th:only-of-type {\n",
       "        vertical-align: middle;\n",
       "    }\n",
       "\n",
       "    .dataframe tbody tr th {\n",
       "        vertical-align: top;\n",
       "    }\n",
       "\n",
       "    .dataframe thead th {\n",
       "        text-align: right;\n",
       "    }\n",
       "</style>\n",
       "<table border=\"1\" class=\"dataframe\">\n",
       "  <thead>\n",
       "    <tr style=\"text-align: right;\">\n",
       "      <th></th>\n",
       "      <th>Pickup point</th>\n",
       "      <th>Status</th>\n",
       "      <th>Request timestamp</th>\n",
       "      <th>Session</th>\n",
       "      <th>supply_demand</th>\n",
       "    </tr>\n",
       "  </thead>\n",
       "  <tbody>\n",
       "    <tr>\n",
       "      <th>0</th>\n",
       "      <td>Airport</td>\n",
       "      <td>Trip Completed</td>\n",
       "      <td>2016-11-07 11:51:00</td>\n",
       "      <td>Late_Morning</td>\n",
       "      <td>Supply</td>\n",
       "    </tr>\n",
       "    <tr>\n",
       "      <th>1</th>\n",
       "      <td>Airport</td>\n",
       "      <td>Trip Completed</td>\n",
       "      <td>2016-11-07 17:57:00</td>\n",
       "      <td>Evening</td>\n",
       "      <td>Supply</td>\n",
       "    </tr>\n",
       "    <tr>\n",
       "      <th>2</th>\n",
       "      <td>City</td>\n",
       "      <td>Trip Completed</td>\n",
       "      <td>2016-12-07 09:17:00</td>\n",
       "      <td>Late_Morning</td>\n",
       "      <td>Supply</td>\n",
       "    </tr>\n",
       "    <tr>\n",
       "      <th>3</th>\n",
       "      <td>Airport</td>\n",
       "      <td>Trip Completed</td>\n",
       "      <td>2016-12-07 21:08:00</td>\n",
       "      <td>Night</td>\n",
       "      <td>Supply</td>\n",
       "    </tr>\n",
       "    <tr>\n",
       "      <th>4</th>\n",
       "      <td>City</td>\n",
       "      <td>Trip Completed</td>\n",
       "      <td>2016-07-13 08:33:16</td>\n",
       "      <td>Early_Morning</td>\n",
       "      <td>Supply</td>\n",
       "    </tr>\n",
       "  </tbody>\n",
       "</table>\n",
       "</div>"
      ],
      "text/plain": [
       "  Pickup point          Status   Request timestamp        Session  \\\n",
       "0      Airport  Trip Completed 2016-11-07 11:51:00   Late_Morning   \n",
       "1      Airport  Trip Completed 2016-11-07 17:57:00        Evening   \n",
       "2         City  Trip Completed 2016-12-07 09:17:00   Late_Morning   \n",
       "3      Airport  Trip Completed 2016-12-07 21:08:00          Night   \n",
       "4         City  Trip Completed 2016-07-13 08:33:16  Early_Morning   \n",
       "\n",
       "  supply_demand  \n",
       "0        Supply  \n",
       "1        Supply  \n",
       "2        Supply  \n",
       "3        Supply  \n",
       "4        Supply  "
      ]
     },
     "execution_count": 69,
     "metadata": {},
     "output_type": "execute_result"
    }
   ],
   "source": [
    "# create a new column (supply_demand), mark a row as 'Supply' if Trip is completed else mark it as 'Demand'\n",
    "\n",
    "uber_df['supply_demand'] = ['Supply' if x == 'Trip Completed' else 'Demand' for x in uber_df['Status']]\n",
    "uber_df.head()"
   ]
  },
  {
   "cell_type": "code",
   "execution_count": 70,
   "id": "b796bb99",
   "metadata": {},
   "outputs": [
    {
     "data": {
      "image/png": "[encoded data removed]",
      "text/plain": [
       "<Figure size 720x360 with 1 Axes>"
      ]
     },
     "metadata": {
      "needs_background": "light"
     },
     "output_type": "display_data"
    }
   ],
   "source": [
    "# plotting Supply and Demand on the City to Airport Route\n",
    "\n",
    "df_citytoairport_supplydemand=uber_df[uber_df[\"Pickup point\"]=='City']\n",
    "\n",
    "df_citytoairport_supplydemand.groupby(['Session','supply_demand']).supply_demand.count().unstack().plot.line(legend=True, figsize=(10,5))\n",
    "\n",
    "plt.title('Cab Supply Demand for City to Airport')\n",
    "plt.xlabel('Sessions')\n",
    "plt.ylabel('# Supply & Demand')\n",
    "\n",
    "plt.show()"
   ]
  },
  {
   "cell_type": "markdown",
   "id": "b58ad818",
   "metadata": {},
   "source": [
    "### Answer 2.1 \n",
    "\n",
    "#### Demand is high in the morning from City to Airport and supply is low"
   ]
  },
  {
   "cell_type": "code",
   "execution_count": 71,
   "id": "e7c9a6ae",
   "metadata": {},
   "outputs": [
    {
     "data": {
      "image/png": "[encoded data removed]",
      "text/plain": [
       "<Figure size 720x360 with 1 Axes>"
      ]
     },
     "metadata": {
      "needs_background": "light"
     },
     "output_type": "display_data"
    }
   ],
   "source": [
    "# plotting Supply and Demand on the Airport to City Route\n",
    "\n",
    "df_citytoairport_supplydemand=uber_df[uber_df[\"Pickup point\"]=='Airport']\n",
    "\n",
    "df_citytoairport_supplydemand.groupby(['Session','supply_demand']).supply_demand.count().unstack().plot.line(legend=True, figsize=(10,5))\n",
    "\n",
    "plt.title('Cab Supply Demand for Airport to City')\n",
    "plt.xlabel('Sessions')\n",
    "plt.ylabel('# Supply & Demand')\n",
    "\n",
    "plt.show()"
   ]
  },
  {
   "cell_type": "markdown",
   "id": "31dd801c",
   "metadata": {},
   "source": [
    "### Answer 2.2\n",
    "\n",
    "#### Demand is high in the evening from Airport to City, whereas Supply is low. "
   ]
  },
  {
   "cell_type": "markdown",
   "id": "ff668e50",
   "metadata": {},
   "source": [
    "## Question 3 - What do you think is the reason for this issue for the supply-demand gap?\n",
    "\n",
    "Write the answer in less than 100 words. You may accompany the write-up with plot(s)."
   ]
  },
  {
   "cell_type": "markdown",
   "id": "a7337a78",
   "metadata": {},
   "source": [
    "#### Answer\n",
    "\n",
    "From the above 2 plots, \n",
    "\n",
    "#1 : From Airport to City, Demand is higher at 1200 requests whereas supply is about 200 only in the evenings.\n",
    "\n",
    "#2 : From City to Airport, Demand is higher at 1000 requests whereas supply is about 200 in the mornings. \n",
    "\n",
    "There is a surge of requests by ~500% from airport to city in the evenings and city to airport in the mornings. \n",
    "\n",
    "From the below plot (inlcluding both supply/demand from city/airpot), \n",
    "\n",
    "#1 : Max of Supply is 600 and max of Demand in the morning is 1000. Similarly max of demand is 1200 whereas supply is 600 only. \n",
    "\n",
    "#2 : Supply is less than demand overall. "
   ]
  },
  {
   "cell_type": "code",
   "execution_count": 52,
   "id": "e83f7fb3",
   "metadata": {},
   "outputs": [
    {
     "data": {
      "image/png": "[encoded data removed]",
      "text/plain": [
       "<Figure size 720x360 with 1 Axes>"
      ]
     },
     "metadata": {
      "needs_background": "light"
     },
     "output_type": "display_data"
    }
   ],
   "source": [
    "# plot overall supply demand including both city and airport\n",
    "\n",
    "uber_df.groupby(['Session','supply_demand']).supply_demand.count().unstack().plot.line(legend=True, figsize=(10,5))\n",
    "\n",
    "plt.title('Cab Supply Demand for City/Airport')\n",
    "plt.xlabel('Sessions')\n",
    "plt.ylabel('# Supply & Demand')\n",
    "\n",
    "plt.show()"
   ]
  },
  {
   "cell_type": "markdown",
   "id": "d0657330",
   "metadata": {},
   "source": [
    " ## Question 4 - Recommend some ways to resolve the supply-demand gap."
   ]
  },
  {
   "cell_type": "markdown",
   "id": "52ffe462",
   "metadata": {},
   "source": [
    "#### Answer \n",
    "\n",
    "#### Recommendations to meet Supply-Demand\n",
    "\n",
    "1. Increase price in the Evenings From Airport to City and give bonus to drivers\n",
    "\n",
    "2. Increase price in the Mornings From City to Airport and give bonus to drivers\n",
    "\n",
    "3. Uber can give gas price during off hours to Airport and City for pickup without a ride"
   ]
  },
  {
   "cell_type": "code",
   "execution_count": null,
   "id": "0ef3c654",
   "metadata": {},
   "outputs": [],
   "source": []
  }
 ],
 "metadata": {
  "kernelspec": {
   "display_name": "Python 3",
   "language": "python",
   "name": "python3"
  },
  "language_info": {
   "codemirror_mode": {
    "name": "ipython",
    "version": 3
   },
   "file_extension": ".py",
   "mimetype": "text/x-python",
   "name": "python",
   "nbconvert_exporter": "python",
   "pygments_lexer": "ipython3",
   "version": "3.8.8"
  }
 },
 "nbformat": 4,
 "nbformat_minor": 5
}
